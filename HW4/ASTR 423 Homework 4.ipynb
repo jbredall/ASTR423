{
 "cells": [
  {
   "cell_type": "code",
   "execution_count": 1,
   "metadata": {},
   "outputs": [],
   "source": [
    "import numpy as np\n",
    "import pandas as pd\n",
    "import astropy.units as u\n",
    "from scipy import interpolate\n",
    "import matplotlib.pyplot as plt\n",
    "import astropy.constants as const"
   ]
  },
  {
   "cell_type": "markdown",
   "metadata": {},
   "source": [
    "# Line Broadening"
   ]
  },
  {
   "cell_type": "code",
   "execution_count": 2,
   "metadata": {},
   "outputs": [],
   "source": [
    "def Lorentz(nus, n, G):\n",
    "    num = Gamma / (4 * np.pi ** 2)\n",
    "    deno = (nus - n) ** 2 + (G / (4 * np.pi)) ** 2\n",
    "    return (num / deno).decompose()"
   ]
  },
  {
   "cell_type": "markdown",
   "metadata": {},
   "source": [
    "## 1 Natural broadening"
   ]
  },
  {
   "cell_type": "markdown",
   "metadata": {},
   "source": [
    "The Lorentz Profile centered around a natural frequency $\\nu_0$ from an energy level transition is given by"
   ]
  },
  {
   "cell_type": "markdown",
   "metadata": {},
   "source": [
    "$$\\begin{equation}\n",
    "\\varphi_\\nu=\\frac{\\frac{\\Gamma}{4\\pi^2}}{(\\nu-\\nu_0)^2+\\left(\\frac{\\Gamma}{4\\pi}\\right)^2}\n",
    "\\end{equation}$$"
   ]
  },
  {
   "cell_type": "markdown",
   "metadata": {},
   "source": [
    "where $\\Gamma$ is the radiative dampening constant, which can in theory be found by taking the reciprocal of the mean lifetime of the energy levels in question (given by $\\Delta E\\Delta t\\geq\\frac{h}{4\\pi}$).\n",
    "\n",
    "Our given values are"
   ]
  },
  {
   "cell_type": "code",
   "execution_count": 3,
   "metadata": {},
   "outputs": [],
   "source": [
    "lambda0 = 5000 * u.AA\n",
    "nu0 = const.c / lambda0\n",
    "\n",
    "delta_t = 10 ** -8 * u.s"
   ]
  },
  {
   "cell_type": "markdown",
   "metadata": {},
   "source": [
    "This gives us our value for Gamma"
   ]
  },
  {
   "cell_type": "code",
   "execution_count": 4,
   "metadata": {},
   "outputs": [
    {
     "name": "stdout",
     "output_type": "stream",
     "text": [
      "Gamma = 1e+08 1 / s\n"
     ]
    }
   ],
   "source": [
    "Gamma = 1 / delta_t\n",
    "\n",
    "print(f'Gamma = {Gamma:.0e}')"
   ]
  },
  {
   "cell_type": "markdown",
   "metadata": {},
   "source": [
    "Gamma allows us to find the Full Width Half Max (FWHM) of our Lorentz Profile, given by"
   ]
  },
  {
   "cell_type": "markdown",
   "metadata": {},
   "source": [
    "$$\\text{FWHM}=\\frac{\\Gamma}{2\\pi}$$"
   ]
  },
  {
   "cell_type": "markdown",
   "metadata": {},
   "source": [
    "meaning our expected FWHM would be"
   ]
  },
  {
   "cell_type": "code",
   "execution_count": 5,
   "metadata": {},
   "outputs": [
    {
     "name": "stdout",
     "output_type": "stream",
     "text": [
      "FWHM = 1.33e-04 Angstrom\n"
     ]
    }
   ],
   "source": [
    "FWHM = Gamma / (2 * np.pi)\n",
    "\n",
    "print(f'FWHM = {(FWHM * const.c / nu0 ** 2).to(u.AA):.2e}')"
   ]
  },
  {
   "cell_type": "markdown",
   "metadata": {},
   "source": [
    "Now let's define our range of frequencies we will use as our domain:"
   ]
  },
  {
   "cell_type": "code",
   "execution_count": 6,
   "metadata": {},
   "outputs": [],
   "source": [
    "delta_nu = 5 * 10 ** 7 * u.Hz\n",
    "\n",
    "nus = np.linspace(nu0 - delta_nu, nu0 + delta_nu, 1000).decompose()"
   ]
  },
  {
   "cell_type": "markdown",
   "metadata": {},
   "source": [
    "Plotting our function we get"
   ]
  },
  {
   "cell_type": "code",
   "execution_count": 7,
   "metadata": {
    "scrolled": false
   },
   "outputs": [
    {
     "data": {
      "image/png": "[encoded data removed]",
      "text/plain": [
       "<Figure size 576x576 with 1 Axes>"
      ]
     },
     "metadata": {
      "needs_background": "light"
     },
     "output_type": "display_data"
    }
   ],
   "source": [
    "phi = Lorentz(nus, n=nu0, G=Gamma)\n",
    "lambdasL = (const.c / nus).to(u.AA)\n",
    "plt.figure(figsize=(8,8))\n",
    "plt.plot(lambdasL, phi / np.max(phi))\n",
    "plt.title(r'Lorentz Profile for $\\nu=5000$ Hz')\n",
    "plt.xlabel('Wavelength (Å)')\n",
    "plt.ylabel(r'Normalized $\\varphi$')\n",
    "plt.show()"
   ]
  },
  {
   "cell_type": "markdown",
   "metadata": {},
   "source": [
    "which allows us to see"
   ]
  },
  {
   "cell_type": "code",
   "execution_count": 8,
   "metadata": {},
   "outputs": [
    {
     "name": "stdout",
     "output_type": "stream",
     "text": [
      "FWHM = 1.33e-04 Angstrom\n"
     ]
    }
   ],
   "source": [
    "half = nus[np.argwhere(phi > np.max(phi) / 2)]\n",
    "FWHM = half[-1][0] - half[0][0]\n",
    "\n",
    "print(f'FWHM = {(FWHM * const.c / nu0 ** 2).to(u.AA):.2e}')"
   ]
  },
  {
   "cell_type": "markdown",
   "metadata": {},
   "source": [
    "which agrees with our calculated value for the FWHM."
   ]
  },
  {
   "cell_type": "markdown",
   "metadata": {},
   "source": [
    "## 2 Doppler broadening"
   ]
  },
  {
   "cell_type": "markdown",
   "metadata": {},
   "source": [
    "We start with our given initial conditions"
   ]
  },
  {
   "cell_type": "code",
   "execution_count": 9,
   "metadata": {},
   "outputs": [],
   "source": [
    "T = 10000 * u.K\n",
    "lambda0 = 4481 * u.AA\n",
    "m = 24.305 * u.u"
   ]
  },
  {
   "cell_type": "markdown",
   "metadata": {},
   "source": [
    "Let us first calculate $V_{th}$, the most likely velocity the particles will have at a given temperature $T$, using"
   ]
  },
  {
   "cell_type": "markdown",
   "metadata": {},
   "source": [
    "$$\n",
    "V_{th}=\\sqrt{\\frac{2k_BT}{m}}\n",
    "$$"
   ]
  },
  {
   "cell_type": "markdown",
   "metadata": {},
   "source": [
    "giving us"
   ]
  },
  {
   "cell_type": "code",
   "execution_count": 10,
   "metadata": {
    "scrolled": true
   },
   "outputs": [
    {
     "name": "stdout",
     "output_type": "stream",
     "text": [
      "Vth = 2615.68 m / s\n"
     ]
    }
   ],
   "source": [
    "Vth = np.sqrt(2 * const.k_B * T / m).decompose()\n",
    "print(f'Vth = {Vth:.2f}')"
   ]
  },
  {
   "cell_type": "markdown",
   "metadata": {},
   "source": [
    "Next we calculate $\\Delta\\lambda_D$ by using"
   ]
  },
  {
   "cell_type": "markdown",
   "metadata": {},
   "source": [
    "$$\\Delta\\nu_D=\\frac{V_{th}\\nu_0}{c}$$"
   ]
  },
  {
   "cell_type": "markdown",
   "metadata": {},
   "source": [
    "and"
   ]
  },
  {
   "cell_type": "markdown",
   "metadata": {},
   "source": [
    "$$\\Delta\\lambda=\\Delta\\nu \\frac{{\\lambda_0}^2}{c}$$"
   ]
  },
  {
   "cell_type": "markdown",
   "metadata": {},
   "source": [
    "giving us"
   ]
  },
  {
   "cell_type": "code",
   "execution_count": 11,
   "metadata": {},
   "outputs": [
    {
     "name": "stdout",
     "output_type": "stream",
     "text": [
      "Δ𝜆𝐷 = 0.0391 Angstrom\n"
     ]
    }
   ],
   "source": [
    "nu0 = const.c / lambda0\n",
    "\n",
    "deltanu = Vth * nu0 / const.c\n",
    "deltalam = deltanu * lambda0 ** 2 / const.c\n",
    "\n",
    "print(f'Δ𝜆𝐷 = {deltalam:.4f}')"
   ]
  },
  {
   "cell_type": "markdown",
   "metadata": {},
   "source": [
    "Plotting the corresponding gaussian profile using"
   ]
  },
  {
   "cell_type": "markdown",
   "metadata": {},
   "source": [
    "$$\n",
    "\\exp{\\left(-\\frac{(\\lambda-\\lambda_0)^2}{\\Delta\\lambda_D^2}\\right)}\n",
    "$$"
   ]
  },
  {
   "cell_type": "markdown",
   "metadata": {},
   "source": [
    "giving us"
   ]
  },
  {
   "cell_type": "code",
   "execution_count": 12,
   "metadata": {
    "scrolled": false
   },
   "outputs": [
    {
     "data": {
      "image/png": "[encoded data removed]",
      "text/plain": [
       "<Figure size 432x432 with 1 Axes>"
      ]
     },
     "metadata": {
      "needs_background": "light"
     },
     "output_type": "display_data"
    }
   ],
   "source": [
    "domrange = 0.3 * u.AA\n",
    "lambdas = np.linspace(lambda0 - domrange, lambda0 + domrange, 10000)\n",
    "\n",
    "gauss = np.exp(- (lambdas - lambda0) ** 2 / deltalam ** 2).decompose()\n",
    "\n",
    "plt.figure(figsize=(6,6))\n",
    "plt.plot(lambdas, gauss)\n",
    "plt.title('Dopple Broadening of Mg II')\n",
    "plt.xlabel('Wavelength (Å)')\n",
    "plt.ylabel('Normalized Intensity')\n",
    "plt.show()"
   ]
  },
  {
   "cell_type": "markdown",
   "metadata": {},
   "source": [
    "Next we calculate the value for $\\lambda=\\lambda_0+\\Delta\\lambda_D$, giving us"
   ]
  },
  {
   "cell_type": "code",
   "execution_count": 13,
   "metadata": {},
   "outputs": [
    {
     "name": "stdout",
     "output_type": "stream",
     "text": [
      "I(𝜆) = 0.3679\n"
     ]
    }
   ],
   "source": [
    "lam = lambda0 + deltalam\n",
    "gaulam = np.exp(- (lam - lambda0) ** 2 / deltalam ** 2).decompose()\n",
    "\n",
    "print(f'I(𝜆) = {gaulam:.4f}')"
   ]
  },
  {
   "cell_type": "markdown",
   "metadata": {},
   "source": [
    "which is equivalent to $e^{-1}$."
   ]
  },
  {
   "cell_type": "markdown",
   "metadata": {},
   "source": [
    "We are now ready to compare doppler broadening to the Lorentz profile. First, let us re-calculate the Lorentz profile for the wavelength $4481\\,Å$"
   ]
  },
  {
   "cell_type": "code",
   "execution_count": 14,
   "metadata": {},
   "outputs": [],
   "source": [
    "domrange = 1 * u.AA\n",
    "lambdas = np.linspace(lambda0 - domrange, lambda0 + domrange, 10000)\n",
    "nus = const.c / lambdas\n",
    "phi = Lorentz(nus, n=nu0, G=Gamma)"
   ]
  },
  {
   "cell_type": "markdown",
   "metadata": {},
   "source": [
    "Plotting our figure we get"
   ]
  },
  {
   "cell_type": "code",
   "execution_count": 15,
   "metadata": {},
   "outputs": [
    {
     "data": {
      "image/png": "[encoded data removed]",
      "text/plain": [
       "<Figure size 576x576 with 1 Axes>"
      ]
     },
     "metadata": {
      "needs_background": "light"
     },
     "output_type": "display_data"
    }
   ],
   "source": [
    "plt.figure(figsize=(8,8))\n",
    "plt.plot(lambdas, phi / np.max(phi), label='Lorentz')\n",
    "plt.plot(lambdas, gauss, label='Doppler')\n",
    "plt.yscale('log')\n",
    "plt.title(r'Doppler Broadening vs Lorentz Profile')\n",
    "plt.xlabel('Wavelength (Å)')\n",
    "plt.ylabel(r'Normalized Intensity')\n",
    "plt.ylim(5 * 10 ** -9, 2)\n",
    "plt.legend(loc='best')\n",
    "plt.show()"
   ]
  },
  {
   "cell_type": "markdown",
   "metadata": {},
   "source": [
    "Thus the interval where the Doppler profile contributes more than the Lorentz profile is"
   ]
  },
  {
   "cell_type": "code",
   "execution_count": 16,
   "metadata": {},
   "outputs": [
    {
     "name": "stdout",
     "output_type": "stream",
     "text": [
      "Doppler > Lorentz = (4480.464, 4481.536) Å\n"
     ]
    }
   ],
   "source": [
    "half = lambdas[gauss > phi / np.max(phi)]\n",
    "\n",
    "print(f'Doppler > Lorentz = ({(half[0]).to(u.AA).value:.3f}, '\n",
    "      f'{(half[-1]).to(u.AA).value:.3f}) Å')"
   ]
  },
  {
   "cell_type": "markdown",
   "metadata": {},
   "source": [
    "## 3 Rotation"
   ]
  },
  {
   "cell_type": "markdown",
   "metadata": {},
   "source": [
    "Our basic stellar parameters are"
   ]
  },
  {
   "cell_type": "code",
   "execution_count": 17,
   "metadata": {},
   "outputs": [],
   "source": [
    "stars = {'O5': {'mass': 40 * u.M_sun, 'radius': 17.8 * u.R_sun},\n",
    "         'B5': {'mass': 6.4 * u.M_sun, 'radius': 3.8 * u.R_sun},\n",
    "         'A5': {'mass': 2.1 * u.M_sun, 'radius': 1.7 * u.R_sun},\n",
    "         'F5': {'mass': 1.3 * u.M_sun, 'radius': 1.2 * u.R_sun},\n",
    "         'G5': {'mass': 0.9 * u.M_sun, 'radius': 0.9 * u.R_sun}}"
   ]
  },
  {
   "cell_type": "markdown",
   "metadata": {},
   "source": [
    "We can find $v_\\text{esc}$ using"
   ]
  },
  {
   "cell_type": "markdown",
   "metadata": {},
   "source": [
    "$$\n",
    "v_\\text{esc}=\\sqrt{\\frac{2GM}{r}}\n",
    "$$"
   ]
  },
  {
   "cell_type": "markdown",
   "metadata": {},
   "source": [
    "giving us"
   ]
  },
  {
   "cell_type": "code",
   "execution_count": 18,
   "metadata": {},
   "outputs": [
    {
     "data": {
      "text/html": [
       "<div>\n",
       "<style scoped>\n",
       "    .dataframe tbody tr th:only-of-type {\n",
       "        vertical-align: middle;\n",
       "    }\n",
       "\n",
       "    .dataframe tbody tr th {\n",
       "        vertical-align: top;\n",
       "    }\n",
       "\n",
       "    .dataframe thead th {\n",
       "        text-align: right;\n",
       "    }\n",
       "</style>\n",
       "<table border=\"1\" class=\"dataframe\">\n",
       "  <thead>\n",
       "    <tr style=\"text-align: right;\">\n",
       "      <th></th>\n",
       "      <th>mass</th>\n",
       "      <th>radius</th>\n",
       "      <th>v_esc</th>\n",
       "    </tr>\n",
       "  </thead>\n",
       "  <tbody>\n",
       "    <tr>\n",
       "      <th>O5</th>\n",
       "      <td>40.0 solMass</td>\n",
       "      <td>17.8 solRad</td>\n",
       "      <td>925.93 km / s</td>\n",
       "    </tr>\n",
       "    <tr>\n",
       "      <th>B5</th>\n",
       "      <td>6.4 solMass</td>\n",
       "      <td>3.8 solRad</td>\n",
       "      <td>801.6 km / s</td>\n",
       "    </tr>\n",
       "    <tr>\n",
       "      <th>A5</th>\n",
       "      <td>2.1 solMass</td>\n",
       "      <td>1.7 solRad</td>\n",
       "      <td>686.51 km / s</td>\n",
       "    </tr>\n",
       "    <tr>\n",
       "      <th>F5</th>\n",
       "      <td>1.3 solMass</td>\n",
       "      <td>1.2 solRad</td>\n",
       "      <td>642.9 km / s</td>\n",
       "    </tr>\n",
       "    <tr>\n",
       "      <th>G5</th>\n",
       "      <td>0.9 solMass</td>\n",
       "      <td>0.9 solRad</td>\n",
       "      <td>617.67 km / s</td>\n",
       "    </tr>\n",
       "  </tbody>\n",
       "</table>\n",
       "</div>"
      ],
      "text/plain": [
       "            mass       radius          v_esc\n",
       "O5  40.0 solMass  17.8 solRad  925.93 km / s\n",
       "B5   6.4 solMass   3.8 solRad   801.6 km / s\n",
       "A5   2.1 solMass   1.7 solRad  686.51 km / s\n",
       "F5   1.3 solMass   1.2 solRad   642.9 km / s\n",
       "G5   0.9 solMass   0.9 solRad  617.67 km / s"
      ]
     },
     "execution_count": 18,
     "metadata": {},
     "output_type": "execute_result"
    }
   ],
   "source": [
    "for star in stars:\n",
    "    stars[star]['v_esc'] = np.sqrt(2 * stars[star]['mass'] * const.G \n",
    "                          / stars[star]['radius']).to(u.km / u.s).round(2)\n",
    "\n",
    "df = pd.DataFrame(stars).T\n",
    "\n",
    "df"
   ]
  },
  {
   "cell_type": "markdown",
   "metadata": {},
   "source": [
    "As we can see, the hotter the spectral class, the greater the escape velocity."
   ]
  },
  {
   "cell_type": "markdown",
   "metadata": {},
   "source": [
    "Now we reason that the greatest possible rotational velocity $v_\\text{rot}$ for a star is its escape velocity; any greater and the star would fly apart. Thus, the greatest possible rotational broadening would be"
   ]
  },
  {
   "cell_type": "markdown",
   "metadata": {},
   "source": [
    "$$\\Delta\\lambda_{max}=\\frac{2\\lambda v_{esc}}{c}$$"
   ]
  },
  {
   "cell_type": "markdown",
   "metadata": {},
   "source": [
    "Which, for a line at 5000Å, would give us"
   ]
  },
  {
   "cell_type": "code",
   "execution_count": 19,
   "metadata": {},
   "outputs": [
    {
     "data": {
      "text/html": [
       "<div>\n",
       "<style scoped>\n",
       "    .dataframe tbody tr th:only-of-type {\n",
       "        vertical-align: middle;\n",
       "    }\n",
       "\n",
       "    .dataframe tbody tr th {\n",
       "        vertical-align: top;\n",
       "    }\n",
       "\n",
       "    .dataframe thead th {\n",
       "        text-align: right;\n",
       "    }\n",
       "</style>\n",
       "<table border=\"1\" class=\"dataframe\">\n",
       "  <thead>\n",
       "    <tr style=\"text-align: right;\">\n",
       "      <th></th>\n",
       "      <th>mass</th>\n",
       "      <th>radius</th>\n",
       "      <th>v_esc</th>\n",
       "      <th>Δ𝜆_max</th>\n",
       "    </tr>\n",
       "  </thead>\n",
       "  <tbody>\n",
       "    <tr>\n",
       "      <th>O5</th>\n",
       "      <td>40.0 solMass</td>\n",
       "      <td>17.8 solRad</td>\n",
       "      <td>925.93 km / s</td>\n",
       "      <td>30.89 Angstrom</td>\n",
       "    </tr>\n",
       "    <tr>\n",
       "      <th>B5</th>\n",
       "      <td>6.4 solMass</td>\n",
       "      <td>3.8 solRad</td>\n",
       "      <td>801.6 km / s</td>\n",
       "      <td>26.74 Angstrom</td>\n",
       "    </tr>\n",
       "    <tr>\n",
       "      <th>A5</th>\n",
       "      <td>2.1 solMass</td>\n",
       "      <td>1.7 solRad</td>\n",
       "      <td>686.51 km / s</td>\n",
       "      <td>22.9 Angstrom</td>\n",
       "    </tr>\n",
       "    <tr>\n",
       "      <th>F5</th>\n",
       "      <td>1.3 solMass</td>\n",
       "      <td>1.2 solRad</td>\n",
       "      <td>642.9 km / s</td>\n",
       "      <td>21.44 Angstrom</td>\n",
       "    </tr>\n",
       "    <tr>\n",
       "      <th>G5</th>\n",
       "      <td>0.9 solMass</td>\n",
       "      <td>0.9 solRad</td>\n",
       "      <td>617.67 km / s</td>\n",
       "      <td>20.6 Angstrom</td>\n",
       "    </tr>\n",
       "  </tbody>\n",
       "</table>\n",
       "</div>"
      ],
      "text/plain": [
       "            mass       radius          v_esc          Δ𝜆_max\n",
       "O5  40.0 solMass  17.8 solRad  925.93 km / s  30.89 Angstrom\n",
       "B5   6.4 solMass   3.8 solRad   801.6 km / s  26.74 Angstrom\n",
       "A5   2.1 solMass   1.7 solRad  686.51 km / s   22.9 Angstrom\n",
       "F5   1.3 solMass   1.2 solRad   642.9 km / s  21.44 Angstrom\n",
       "G5   0.9 solMass   0.9 solRad  617.67 km / s   20.6 Angstrom"
      ]
     },
     "execution_count": 19,
     "metadata": {},
     "output_type": "execute_result"
    }
   ],
   "source": [
    "for star in stars:\n",
    "    stars[star]['Δ𝜆_max'] = (2 * 5000 * u.AA * stars[star]['v_esc']\n",
    "                                  / const.c).to(u.AA).round(2)\n",
    "\n",
    "df = pd.DataFrame(stars).T\n",
    "\n",
    "df"
   ]
  }
 ],
 "metadata": {
  "kernelspec": {
   "display_name": "Python 3",
   "language": "python",
   "name": "python3"
  },
  "language_info": {
   "codemirror_mode": {
    "name": "ipython",
    "version": 3
   },
   "file_extension": ".py",
   "mimetype": "text/x-python",
   "name": "python",
   "nbconvert_exporter": "python",
   "pygments_lexer": "ipython3",
   "version": "3.6.8"
  },
  "latex_envs": {
   "LaTeX_envs_menu_present": true,
   "autoclose": true,
   "autocomplete": true,
   "bibliofile": "biblio.bib",
   "cite_by": "apalike",
   "current_citInitial": 1,
   "eqLabelWithNumbers": true,
   "eqNumInitial": 1,
   "hotkeys": {
    "equation": "Ctrl-E",
    "itemize": "Ctrl-I"
   },
   "labels_anchors": false,
   "latex_user_defs": false,
   "report_style_numbering": false,
   "user_envs_cfg": false
  }
 },
 "nbformat": 4,
 "nbformat_minor": 2
}
